{
 "cells": [
  {
   "cell_type": "code",
   "execution_count": 1,
   "id": "d3a9d382",
   "metadata": {},
   "outputs": [
    {
     "name": "stdout",
     "output_type": "stream",
     "text": [
      "A       ..\\data\\archive.zip\n",
      "1 file added\n"
     ]
    }
   ],
   "source": [
    "!uv run dvc pull"
   ]
  },
  {
   "cell_type": "code",
   "execution_count": 3,
   "id": "bdc4ad87",
   "metadata": {},
   "outputs": [],
   "source": [
    "from pathlib import Path\n",
    "\n",
    "import pandas as pd\n",
    "\n",
    "from anime_recommender.scripts.setup import DatasetLoader, DatasetProcessor\n",
    "from anime_recommender.scripts.callbacks import EventsCallback"
   ]
  },
  {
   "cell_type": "code",
   "execution_count": 4,
   "id": "59f94a70",
   "metadata": {},
   "outputs": [
    {
     "name": "stdout",
     "output_type": "stream",
     "text": [
      "EventsCallback [INFO]: ===== Unpack Archive Job =====\n",
      "EventsCallback [DEBUG]: Unlinking file animelist.csv\n",
      "EventsCallback [DEBUG]: Unlinking file anime_with_synopsis.csv\n",
      "EventsCallback [DEBUG]: Removing tree html folder\n",
      "EventsCallback [DEBUG]: Unlinking file watching_status.csv\n",
      "EventsCallback [INFO]: ===== Filter users Job =====\n",
      "EventsCallback [INFO]: ===== Join Tables Job =====\n",
      "EventsCallback [DEBUG]: Total Records: 752_850\n"
     ]
    }
   ],
   "source": [
    "config_file = Path.cwd().parent.parent / \"config\" / \"log-config.yaml\"\n",
    "archive_path = Path.cwd().parent / \"data\" / \"archive.zip\"\n",
    "callback = EventsCallback()\n",
    "callback.reconfigure_from_file(config_file=config_file)\n",
    "log = callback.logger\n",
    "\n",
    "ds_loader = DatasetLoader(log=log, archive_path=archive_path)\n",
    "anime_pd, ratings_pd = ds_loader.load_pandas_data_frames()\n",
    "ds_processor = DatasetProcessor(log=log, anime_pd=anime_pd, ratings_pd=ratings_pd)\n",
    "\n",
    "tables_merge = ds_processor._merge()"
   ]
  },
  {
   "cell_type": "code",
   "execution_count": 5,
   "id": "fad93449",
   "metadata": {},
   "outputs": [
    {
     "name": "stdout",
     "output_type": "stream",
     "text": [
      "EventsCallback [DEBUG]: Records: 752_850\n"
     ]
    },
    {
     "data": {
      "text/html": [
       "<div>\n",
       "<style scoped>\n",
       "    .dataframe tbody tr th:only-of-type {\n",
       "        vertical-align: middle;\n",
       "    }\n",
       "\n",
       "    .dataframe tbody tr th {\n",
       "        vertical-align: top;\n",
       "    }\n",
       "\n",
       "    .dataframe thead th {\n",
       "        text-align: right;\n",
       "    }\n",
       "</style>\n",
       "<table border=\"1\" class=\"dataframe\">\n",
       "  <thead>\n",
       "    <tr style=\"text-align: right;\">\n",
       "      <th></th>\n",
       "      <th>user_id</th>\n",
       "      <th>rating</th>\n",
       "      <th>anime_id</th>\n",
       "      <th>name</th>\n",
       "      <th>genres</th>\n",
       "    </tr>\n",
       "  </thead>\n",
       "  <tbody>\n",
       "    <tr>\n",
       "      <th>600923</th>\n",
       "      <td>300428</td>\n",
       "      <td>1.0</td>\n",
       "      <td>29949</td>\n",
       "      <td>Nami</td>\n",
       "      <td>Dementia</td>\n",
       "    </tr>\n",
       "    <tr>\n",
       "      <th>672733</th>\n",
       "      <td>327150</td>\n",
       "      <td>10.0</td>\n",
       "      <td>1825</td>\n",
       "      <td>Hadashi no Gen 2</td>\n",
       "      <td>Drama, Historical, Shounen</td>\n",
       "    </tr>\n",
       "    <tr>\n",
       "      <th>330339</th>\n",
       "      <td>176954</td>\n",
       "      <td>6.0</td>\n",
       "      <td>40733</td>\n",
       "      <td>Zhen Hun Jie: Bei Luo Shi Men Pian Part 1</td>\n",
       "      <td>Action, Supernatural</td>\n",
       "    </tr>\n",
       "  </tbody>\n",
       "</table>\n",
       "</div>"
      ],
      "text/plain": [
       "        user_id  rating  anime_id                                       name  \\\n",
       "600923   300428     1.0     29949                                       Nami   \n",
       "672733   327150    10.0      1825                           Hadashi no Gen 2   \n",
       "330339   176954     6.0     40733  Zhen Hun Jie: Bei Luo Shi Men Pian Part 1   \n",
       "\n",
       "                            genres  \n",
       "600923                    Dementia  \n",
       "672733  Drama, Historical, Shounen  \n",
       "330339        Action, Supernatural  "
      ]
     },
     "execution_count": 5,
     "metadata": {},
     "output_type": "execute_result"
    }
   ],
   "source": [
    "log.debug(f\"Records: {tables_merge.shape[0]:_}\")\n",
    "tables_merge.sample(3)"
   ]
  },
  {
   "cell_type": "code",
   "execution_count": 6,
   "id": "91cc5f7c",
   "metadata": {},
   "outputs": [
    {
     "data": {
      "text/plain": [
       "rating\n",
       "7.0     172657\n",
       "6.0     135045\n",
       "5.0     108034\n",
       "8.0      99217\n",
       "4.0      57766\n",
       "10.0     49852\n",
       "9.0      39938\n",
       "3.0      36257\n",
       "1.0      28859\n",
       "2.0      25225\n",
       "Name: count, dtype: int64"
      ]
     },
     "execution_count": 6,
     "metadata": {},
     "output_type": "execute_result"
    }
   ],
   "source": [
    "tables_merge.rating.value_counts()"
   ]
  },
  {
   "cell_type": "code",
   "execution_count": 7,
   "id": "678cee8b",
   "metadata": {},
   "outputs": [],
   "source": [
    "def get_unique_genres(genre_series: pd.Series) -> list[str]:\n",
    "    \"\"\"Unique Genres of all Anime Movies.\"\"\"\n",
    "\n",
    "    genres = set()\n",
    "\n",
    "    for pdtuple in genre_series.to_frame().itertuples():\n",
    "        row_split = pdtuple.genres.split(\", \")\n",
    "        for genre in row_split:\n",
    "            genres.add(genre)\n",
    "\n",
    "    return sorted(genres)"
   ]
  },
  {
   "cell_type": "code",
   "execution_count": 10,
   "id": "f13ff201",
   "metadata": {},
   "outputs": [
    {
     "name": "stdout",
     "output_type": "stream",
     "text": [
      "EventsCallback [INFO]: Unique Genres:\n",
      "Action\n",
      "Adventure\n",
      "Cars\n",
      "Comedy\n",
      "Dementia\n",
      "Demons\n",
      "Drama\n",
      "Ecchi\n",
      "Fantasy\n",
      "Game\n",
      "Harem\n",
      "Hentai\n",
      "Historical\n",
      "Horror\n",
      "Josei\n",
      "Kids\n",
      "Magic\n",
      "Martial Arts\n",
      "Mecha\n",
      "Military\n",
      "Music\n",
      "Mystery\n",
      "Parody\n",
      "Police\n",
      "Psychological\n",
      "Romance\n",
      "Samurai\n",
      "School\n",
      "Sci-Fi\n",
      "Seinen\n",
      "Shoujo\n",
      "Shoujo Ai\n",
      "Shounen\n",
      "Shounen Ai\n",
      "Slice of Life\n",
      "Space\n",
      "Sports\n",
      "Super Power\n",
      "Supernatural\n",
      "Thriller\n",
      "Unknown\n",
      "Vampire\n",
      "Yaoi\n",
      "Yuri\n"
     ]
    }
   ],
   "source": [
    "unique_genres = get_unique_genres(genre_series=tables_merge.genres)\n",
    "unique_genres_str = \"\\n\".join(unique_genres)\n",
    "log.info(f\"Unique Genres:\\n{unique_genres_str}\")"
   ]
  },
  {
   "cell_type": "code",
   "execution_count": 11,
   "id": "dd15068c",
   "metadata": {},
   "outputs": [
    {
     "name": "stdout",
     "output_type": "stream",
     "text": [
      "EventsCallback [INFO]: feature_dim: 16972\n"
     ]
    }
   ],
   "source": [
    "feature_dim = [len(tables_merge[col].unique()) for col in (\"user_id\", \"anime_id\")]\n",
    "\n",
    "log.info(f\"feature_dim: {sum(feature_dim)}\")"
   ]
  },
  {
   "cell_type": "code",
   "execution_count": null,
   "id": "7fbfb82f",
   "metadata": {},
   "outputs": [],
   "source": []
  }
 ],
 "metadata": {
  "kernelspec": {
   "display_name": "anime-recommender (3.10.18)",
   "language": "python",
   "name": "python3"
  },
  "language_info": {
   "codemirror_mode": {
    "name": "ipython",
    "version": 3
   },
   "file_extension": ".py",
   "mimetype": "text/x-python",
   "name": "python",
   "nbconvert_exporter": "python",
   "pygments_lexer": "ipython3",
   "version": "3.10.18"
  }
 },
 "nbformat": 4,
 "nbformat_minor": 5
}
