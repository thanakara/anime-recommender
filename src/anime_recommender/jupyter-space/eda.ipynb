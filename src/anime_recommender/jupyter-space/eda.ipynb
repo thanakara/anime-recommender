{
 "cells": [
  {
   "cell_type": "code",
   "execution_count": 2,
   "id": "d3a9d382",
   "metadata": {},
   "outputs": [
    {
     "name": "stdout",
     "output_type": "stream",
     "text": [
      "Everything is up to date.\n"
     ]
    }
   ],
   "source": [
    "!uv run dvc pull"
   ]
  },
  {
   "cell_type": "code",
   "execution_count": 4,
   "id": "bdc4ad87",
   "metadata": {},
   "outputs": [],
   "source": [
    "from pathlib import Path\n",
    "\n",
    "import pandas as pd\n",
    "\n",
    "from anime_recommender.scripts.setup import DatasetLoader, DatasetProcessor\n",
    "from anime_recommender.scripts.callbacks import EventsCallback"
   ]
  },
  {
   "cell_type": "code",
   "execution_count": 5,
   "id": "59f94a70",
   "metadata": {},
   "outputs": [
    {
     "name": "stdout",
     "output_type": "stream",
     "text": [
      "EventsCallback [INFO]: ===== Unpack Archive Job =====\n",
      "EventsCallback [DEBUG]: Unlinking file animelist.csv\n",
      "EventsCallback [DEBUG]: Unlinking file anime_with_synopsis.csv\n",
      "EventsCallback [DEBUG]: Removing tree html folder\n",
      "EventsCallback [DEBUG]: Unlinking file watching_status.csv\n",
      "EventsCallback [INFO]: ===== Join Tables Job =====\n",
      "EventsCallback [DEBUG]: Total records: 603_038\n"
     ]
    }
   ],
   "source": [
    "config_file = Path.cwd().parent.parent / \"config\" / \"log-config.yaml\"\n",
    "archive_path = Path.cwd().parent / \"data\" / \"archive.zip\"\n",
    "callback = EventsCallback()\n",
    "callback.reconfigure_from_file(config_file=config_file)\n",
    "log = callback.logger\n",
    "\n",
    "ds_loader = DatasetLoader(log=log, archive_path=archive_path)\n",
    "anime_pd, ratings_pd = ds_loader.load_pandas_data_frames()\n",
    "ds_processor = DatasetProcessor(log=log, anime_pd=anime_pd, ratings_pd=ratings_pd)\n",
    "\n",
    "tables_merge = ds_processor._merge()"
   ]
  },
  {
   "cell_type": "code",
   "execution_count": 6,
   "id": "fad93449",
   "metadata": {},
   "outputs": [
    {
     "name": "stdout",
     "output_type": "stream",
     "text": [
      "EventsCallback [DEBUG]: Records: 603_038\n"
     ]
    },
    {
     "data": {
      "text/html": [
       "<div>\n",
       "<style scoped>\n",
       "    .dataframe tbody tr th:only-of-type {\n",
       "        vertical-align: middle;\n",
       "    }\n",
       "\n",
       "    .dataframe tbody tr th {\n",
       "        vertical-align: top;\n",
       "    }\n",
       "\n",
       "    .dataframe thead th {\n",
       "        text-align: right;\n",
       "    }\n",
       "</style>\n",
       "<table border=\"1\" class=\"dataframe\">\n",
       "  <thead>\n",
       "    <tr style=\"text-align: right;\">\n",
       "      <th></th>\n",
       "      <th>rating</th>\n",
       "      <th>user_id</th>\n",
       "      <th>anime_id</th>\n",
       "      <th>name</th>\n",
       "      <th>genres</th>\n",
       "    </tr>\n",
       "  </thead>\n",
       "  <tbody>\n",
       "    <tr>\n",
       "      <th>272587</th>\n",
       "      <td>8.0</td>\n",
       "      <td>160267</td>\n",
       "      <td>32281</td>\n",
       "      <td>Kimi no Na wa.</td>\n",
       "      <td>Romance, Supernatural, School, Drama</td>\n",
       "    </tr>\n",
       "    <tr>\n",
       "      <th>17336</th>\n",
       "      <td>10.0</td>\n",
       "      <td>10397</td>\n",
       "      <td>28851</td>\n",
       "      <td>Koe no Katachi</td>\n",
       "      <td>Drama, School, Shounen</td>\n",
       "    </tr>\n",
       "    <tr>\n",
       "      <th>433879</th>\n",
       "      <td>8.0</td>\n",
       "      <td>254091</td>\n",
       "      <td>32281</td>\n",
       "      <td>Kimi no Na wa.</td>\n",
       "      <td>Romance, Supernatural, School, Drama</td>\n",
       "    </tr>\n",
       "  </tbody>\n",
       "</table>\n",
       "</div>"
      ],
      "text/plain": [
       "        rating  user_id  anime_id            name  \\\n",
       "272587     8.0   160267     32281  Kimi no Na wa.   \n",
       "17336     10.0    10397     28851  Koe no Katachi   \n",
       "433879     8.0   254091     32281  Kimi no Na wa.   \n",
       "\n",
       "                                      genres  \n",
       "272587  Romance, Supernatural, School, Drama  \n",
       "17336                 Drama, School, Shounen  \n",
       "433879  Romance, Supernatural, School, Drama  "
      ]
     },
     "execution_count": 6,
     "metadata": {},
     "output_type": "execute_result"
    }
   ],
   "source": [
    "log.debug(f\"Records: {tables_merge.shape[0]:_}\")\n",
    "tables_merge.sample(3)"
   ]
  },
  {
   "cell_type": "code",
   "execution_count": 7,
   "id": "91cc5f7c",
   "metadata": {},
   "outputs": [
    {
     "data": {
      "text/plain": [
       "rating\n",
       "10.0    194136\n",
       "9.0     191974\n",
       "8.0     133064\n",
       "7.0      53712\n",
       "6.0      17178\n",
       "5.0       7033\n",
       "4.0       3111\n",
       "3.0       1336\n",
       "1.0        845\n",
       "2.0        649\n",
       "Name: count, dtype: int64"
      ]
     },
     "execution_count": 7,
     "metadata": {},
     "output_type": "execute_result"
    }
   ],
   "source": [
    "tables_merge.rating.value_counts()"
   ]
  },
  {
   "cell_type": "code",
   "execution_count": 8,
   "id": "678cee8b",
   "metadata": {},
   "outputs": [],
   "source": [
    "def get_unique_genres(genre_series: pd.Series) -> list[str]:\n",
    "    \"\"\"Unique Genres of all Anime Movies.\"\"\"\n",
    "\n",
    "    genres = set()\n",
    "\n",
    "    for pdtuple in genre_series.to_frame().itertuples():\n",
    "        row_split = pdtuple.genres.split(\", \")\n",
    "        for genre in row_split:\n",
    "            genres.add(genre)\n",
    "\n",
    "    return sorted(genres)"
   ]
  },
  {
   "cell_type": "code",
   "execution_count": 10,
   "id": "f13ff201",
   "metadata": {},
   "outputs": [
    {
     "name": "stdout",
     "output_type": "stream",
     "text": [
      "EventsCallback [INFO]: Unique Genres:\n",
      "['Action', 'Adventure', 'Comedy', 'Drama', 'Fantasy', 'Historical', 'Magic', 'Mystery', 'Parody', 'Romance', 'Samurai', 'School', 'Sci-Fi', 'Seinen', 'Shounen', 'Slice of Life', 'Supernatural', 'Vampire']\n"
     ]
    }
   ],
   "source": [
    "unique_genres = get_unique_genres(genre_series=tables_merge.genres)\n",
    "log.info(f\"Unique Genres:\\n{unique_genres}\")"
   ]
  },
  {
   "cell_type": "code",
   "execution_count": null,
   "id": "dd15068c",
   "metadata": {},
   "outputs": [
    {
     "name": "stdout",
     "output_type": "stream",
     "text": [
      "EventsCallback [INFO]: feature_dim: 182794\n"
     ]
    }
   ],
   "source": [
    "feature_dim = [len(tables_merge[col].unique()) for col in (\"user_id\", \"anime_id\")]\n",
    "\n",
    "log.info(f\"feature_dim: {sum(feature_dim)}\")"
   ]
  },
  {
   "cell_type": "code",
   "execution_count": null,
   "id": "7fbfb82f",
   "metadata": {},
   "outputs": [],
   "source": []
  }
 ],
 "metadata": {
  "kernelspec": {
   "display_name": "anime-recommender (3.10.18)",
   "language": "python",
   "name": "python3"
  },
  "language_info": {
   "codemirror_mode": {
    "name": "ipython",
    "version": 3
   },
   "file_extension": ".py",
   "mimetype": "text/x-python",
   "name": "python",
   "nbconvert_exporter": "python",
   "pygments_lexer": "ipython3",
   "version": "3.10.18"
  }
 },
 "nbformat": 4,
 "nbformat_minor": 5
}
