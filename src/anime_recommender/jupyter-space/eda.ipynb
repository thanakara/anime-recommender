{
 "cells": [
  {
   "cell_type": "code",
   "execution_count": 1,
   "id": "d3a9d382",
   "metadata": {},
   "outputs": [
    {
     "name": "stdout",
     "output_type": "stream",
     "text": [
      "A       ..\\data\\archive.zip\n",
      "1 file added\n"
     ]
    }
   ],
   "source": [
    "!uv run dvc pull"
   ]
  },
  {
   "cell_type": "code",
   "execution_count": 3,
   "id": "bdc4ad87",
   "metadata": {},
   "outputs": [],
   "source": [
    "import json\n",
    "\n",
    "from pathlib import Path\n",
    "\n",
    "import pandas as pd\n",
    "\n",
    "from anime_recommender.scripts.setup import DatasetLoader, DatasetProcessor\n",
    "from anime_recommender.scripts.callbacks import EventsCallback"
   ]
  },
  {
   "cell_type": "code",
   "execution_count": 4,
   "id": "59f94a70",
   "metadata": {},
   "outputs": [
    {
     "name": "stdout",
     "output_type": "stream",
     "text": [
      "EventsCallback [INFO]: ===== Unpack Archive Job =====\n",
      "EventsCallback [DEBUG]: Unlinking file animelist.csv\n",
      "EventsCallback [DEBUG]: Unlinking file anime_with_synopsis.csv\n",
      "EventsCallback [DEBUG]: Removing tree html folder\n",
      "EventsCallback [DEBUG]: Unlinking file watching_status.csv\n",
      "EventsCallback [INFO]: ===== Filter users Job =====\n",
      "EventsCallback [INFO]: ===== Join Tables Job =====\n",
      "EventsCallback [DEBUG]: Total Records: 752_850\n"
     ]
    }
   ],
   "source": [
    "config_file = Path.cwd().parent.parent / \"config\" / \"log-config.yaml\"\n",
    "archive_path = Path.cwd().parent / \"data\" / \"archive.zip\"\n",
    "callback = EventsCallback()\n",
    "callback.reconfigure_from_file(config_file=config_file)\n",
    "log = callback.logger\n",
    "\n",
    "ds_loader = DatasetLoader(log=log, archive_path=archive_path)\n",
    "anime_pd, ratings_pd = ds_loader.load_pandas_data_frames()\n",
    "ds_processor = DatasetProcessor(log=log, anime_pd=anime_pd, ratings_pd=ratings_pd)\n",
    "\n",
    "tables_merge = ds_processor._merge()"
   ]
  },
  {
   "cell_type": "code",
   "execution_count": 5,
   "id": "fad93449",
   "metadata": {},
   "outputs": [
    {
     "data": {
      "text/html": [
       "<div>\n",
       "<style scoped>\n",
       "    .dataframe tbody tr th:only-of-type {\n",
       "        vertical-align: middle;\n",
       "    }\n",
       "\n",
       "    .dataframe tbody tr th {\n",
       "        vertical-align: top;\n",
       "    }\n",
       "\n",
       "    .dataframe thead th {\n",
       "        text-align: right;\n",
       "    }\n",
       "</style>\n",
       "<table border=\"1\" class=\"dataframe\">\n",
       "  <thead>\n",
       "    <tr style=\"text-align: right;\">\n",
       "      <th></th>\n",
       "      <th>user_id</th>\n",
       "      <th>rating</th>\n",
       "      <th>anime_id</th>\n",
       "      <th>name</th>\n",
       "      <th>genres</th>\n",
       "    </tr>\n",
       "  </thead>\n",
       "  <tbody>\n",
       "    <tr>\n",
       "      <th>25592</th>\n",
       "      <td>10367</td>\n",
       "      <td>4.0</td>\n",
       "      <td>21743</td>\n",
       "      <td>Donten ni Warau</td>\n",
       "      <td>Action, Historical, Shoujo, Supernatural</td>\n",
       "    </tr>\n",
       "    <tr>\n",
       "      <th>646653</th>\n",
       "      <td>316318</td>\n",
       "      <td>7.0</td>\n",
       "      <td>28171</td>\n",
       "      <td>Shokugeki no Souma</td>\n",
       "      <td>Ecchi, School, Shounen</td>\n",
       "    </tr>\n",
       "    <tr>\n",
       "      <th>324496</th>\n",
       "      <td>173716</td>\n",
       "      <td>6.0</td>\n",
       "      <td>10308</td>\n",
       "      <td>Sengoku Otome: Momoiro Paradox</td>\n",
       "      <td>Action, Comedy, Historical, Samurai, Sci-Fi, S...</td>\n",
       "    </tr>\n",
       "    <tr>\n",
       "      <th>642471</th>\n",
       "      <td>316154</td>\n",
       "      <td>6.0</td>\n",
       "      <td>23935</td>\n",
       "      <td>Kyutai Panic Adventure Returns!</td>\n",
       "      <td>Action, Shounen, Super Power</td>\n",
       "    </tr>\n",
       "    <tr>\n",
       "      <th>584437</th>\n",
       "      <td>297524</td>\n",
       "      <td>7.0</td>\n",
       "      <td>6151</td>\n",
       "      <td>Final Fantasy VII: On the Way to a Smile - Epi...</td>\n",
       "      <td>Action, Fantasy, Super Power</td>\n",
       "    </tr>\n",
       "    <tr>\n",
       "      <th>611515</th>\n",
       "      <td>307456</td>\n",
       "      <td>6.0</td>\n",
       "      <td>40932</td>\n",
       "      <td>Null Peta Special</td>\n",
       "      <td>Sci-Fi, Comedy</td>\n",
       "    </tr>\n",
       "    <tr>\n",
       "      <th>665984</th>\n",
       "      <td>323567</td>\n",
       "      <td>7.0</td>\n",
       "      <td>21075</td>\n",
       "      <td>Hetalia: The Beautiful World Extra Disc</td>\n",
       "      <td>Comedy, Historical, Parody</td>\n",
       "    </tr>\n",
       "    <tr>\n",
       "      <th>59240</th>\n",
       "      <td>24990</td>\n",
       "      <td>6.0</td>\n",
       "      <td>33241</td>\n",
       "      <td>Honobono Log</td>\n",
       "      <td>Romance, Slice of Life</td>\n",
       "    </tr>\n",
       "    <tr>\n",
       "      <th>477649</th>\n",
       "      <td>259790</td>\n",
       "      <td>2.0</td>\n",
       "      <td>31145</td>\n",
       "      <td>Code Geass: Boukoku no Akito 3 - Kagayaku Mono...</td>\n",
       "      <td>Comedy, Military</td>\n",
       "    </tr>\n",
       "    <tr>\n",
       "      <th>120659</th>\n",
       "      <td>67428</td>\n",
       "      <td>4.0</td>\n",
       "      <td>2442</td>\n",
       "      <td>Zoku Koihime</td>\n",
       "      <td>Fantasy, Harem, Hentai, Magic, Supernatural</td>\n",
       "    </tr>\n",
       "  </tbody>\n",
       "</table>\n",
       "</div>"
      ],
      "text/plain": [
       "        user_id  rating  anime_id  \\\n",
       "25592     10367     4.0     21743   \n",
       "646653   316318     7.0     28171   \n",
       "324496   173716     6.0     10308   \n",
       "642471   316154     6.0     23935   \n",
       "584437   297524     7.0      6151   \n",
       "611515   307456     6.0     40932   \n",
       "665984   323567     7.0     21075   \n",
       "59240     24990     6.0     33241   \n",
       "477649   259790     2.0     31145   \n",
       "120659    67428     4.0      2442   \n",
       "\n",
       "                                                     name  \\\n",
       "25592                                     Donten ni Warau   \n",
       "646653                                 Shokugeki no Souma   \n",
       "324496                     Sengoku Otome: Momoiro Paradox   \n",
       "642471                    Kyutai Panic Adventure Returns!   \n",
       "584437  Final Fantasy VII: On the Way to a Smile - Epi...   \n",
       "611515                                  Null Peta Special   \n",
       "665984            Hetalia: The Beautiful World Extra Disc   \n",
       "59240                                        Honobono Log   \n",
       "477649  Code Geass: Boukoku no Akito 3 - Kagayaku Mono...   \n",
       "120659                                       Zoku Koihime   \n",
       "\n",
       "                                                   genres  \n",
       "25592            Action, Historical, Shoujo, Supernatural  \n",
       "646653                             Ecchi, School, Shounen  \n",
       "324496  Action, Comedy, Historical, Samurai, Sci-Fi, S...  \n",
       "642471                       Action, Shounen, Super Power  \n",
       "584437                       Action, Fantasy, Super Power  \n",
       "611515                                     Sci-Fi, Comedy  \n",
       "665984                         Comedy, Historical, Parody  \n",
       "59240                              Romance, Slice of Life  \n",
       "477649                                   Comedy, Military  \n",
       "120659        Fantasy, Harem, Hentai, Magic, Supernatural  "
      ]
     },
     "execution_count": 5,
     "metadata": {},
     "output_type": "execute_result"
    }
   ],
   "source": [
    "tables_merge.sample(10)"
   ]
  },
  {
   "cell_type": "code",
   "execution_count": 6,
   "id": "678cee8b",
   "metadata": {},
   "outputs": [],
   "source": [
    "def get_unique_genres(genre_series: pd.Series) -> list[str]:\n",
    "    \"\"\"Unique Genres of all Anime Movies.\"\"\"\n",
    "\n",
    "    genres = set()\n",
    "\n",
    "    for pdtuple in genre_series.to_frame().itertuples():\n",
    "        row_split = pdtuple.genres.split(\", \")\n",
    "        for genre in row_split:\n",
    "            genres.add(genre)\n",
    "\n",
    "    return sorted(genres)"
   ]
  },
  {
   "cell_type": "code",
   "execution_count": 7,
   "id": "f13ff201",
   "metadata": {},
   "outputs": [
    {
     "name": "stdout",
     "output_type": "stream",
     "text": [
      "EventsCallback [INFO]: \n",
      "Unique Genres:\n",
      "--------\n",
      "Action\n",
      "Adventure\n",
      "Cars\n",
      "Comedy\n",
      "Dementia\n",
      "Demons\n",
      "Drama\n",
      "Ecchi\n",
      "Fantasy\n",
      "Game\n",
      "Harem\n",
      "Hentai\n",
      "Historical\n",
      "Horror\n",
      "Josei\n",
      "Kids\n",
      "Magic\n",
      "Martial Arts\n",
      "Mecha\n",
      "Military\n",
      "Music\n",
      "Mystery\n",
      "Parody\n",
      "Police\n",
      "Psychological\n",
      "Romance\n",
      "Samurai\n",
      "School\n",
      "Sci-Fi\n",
      "Seinen\n",
      "Shoujo\n",
      "Shoujo Ai\n",
      "Shounen\n",
      "Shounen Ai\n",
      "Slice of Life\n",
      "Space\n",
      "Sports\n",
      "Super Power\n",
      "Supernatural\n",
      "Thriller\n",
      "Unknown\n",
      "Vampire\n",
      "Yaoi\n",
      "Yuri\n"
     ]
    }
   ],
   "source": [
    "unique_genres = get_unique_genres(genre_series=tables_merge.genres)\n",
    "unique_genres_str = \"\\n\".join(unique_genres)\n",
    "log.info(f\"\\nUnique Genres:\\n--------\\n{unique_genres_str}\")"
   ]
  },
  {
   "cell_type": "code",
   "execution_count": 8,
   "id": "dd15068c",
   "metadata": {},
   "outputs": [
    {
     "name": "stdout",
     "output_type": "stream",
     "text": [
      "EventsCallback [INFO]: \n",
      "{\n",
      "   \"features\": {\n",
      "      \"users_filtered\": 167,\n",
      "      \"anime_total\": 16805,\n",
      "      \"feature_dim\": 16972\n",
      "   }\n",
      "}\n"
     ]
    }
   ],
   "source": [
    "feature_dim = [len(tables_merge[col].unique()) for col in (\"user_id\", \"anime_id\")]\n",
    "dim = {\"features\": {\"users_filtered\": feature_dim[0], \"anime_total\": feature_dim[1], \"feature_dim\": sum(feature_dim)}}\n",
    "log.info(f\"\\n{json.dumps(dim, indent=3)}\")"
   ]
  },
  {
   "cell_type": "code",
   "execution_count": null,
   "id": "a0297f21",
   "metadata": {},
   "outputs": [],
   "source": []
  }
 ],
 "metadata": {
  "kernelspec": {
   "display_name": "anime-recommender (3.10.18)",
   "language": "python",
   "name": "python3"
  },
  "language_info": {
   "codemirror_mode": {
    "name": "ipython",
    "version": 3
   },
   "file_extension": ".py",
   "mimetype": "text/x-python",
   "name": "python",
   "nbconvert_exporter": "python",
   "pygments_lexer": "ipython3",
   "version": "3.10.18"
  }
 },
 "nbformat": 4,
 "nbformat_minor": 5
}
